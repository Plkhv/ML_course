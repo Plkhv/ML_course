{
 "cells": [
  {
   "cell_type": "code",
   "execution_count": null,
   "id": "5e7be58d",
   "metadata": {},
   "outputs": [],
   "source": [
    "import numpy as np\n",
    "import pandas as pd\n",
    "import matplotlib.pyplot as plt"
   ]
  },
  {
   "cell_type": "code",
   "execution_count": null,
   "id": "050aa04c",
   "metadata": {},
   "outputs": [],
   "source": [
    "x = pd.read_csv('https://raw.githubusercontent.com/koroteevmv/ML_course/2023/ML1.1%20linear%20regression/data/x.csv')\n",
    "y = pd.read_csv('https://raw.githubusercontent.com/koroteevmv/ML_course/2023/ML1.1%20linear%20regression/data/y.csv')\n",
    "if isinstance(y, pd.DataFrame):\n",
    "    y = y.iloc[:, 1]\n",
    "if isinstance(x, pd.DataFrame):\n",
    "    x = x.iloc[:, 1]"
   ]
  },
  {
   "cell_type": "markdown",
   "id": "d335da8e",
   "metadata": {},
   "source": [
    "Состав и названия полей:"
   ]
  },
  {
   "cell_type": "code",
   "execution_count": null,
   "id": "7fe181d6",
   "metadata": {},
   "outputs": [],
   "source": [
    "x.head()"
   ]
  },
  {
   "cell_type": "markdown",
   "id": "b578829e",
   "metadata": {},
   "source": [
    "график зависимости одной переменной от другой:"
   ]
  },
  {
   "cell_type": "code",
   "execution_count": null,
   "id": "8d30feea",
   "metadata": {},
   "outputs": [],
   "source": [
    "plt.figure()\n",
    "plt.scatter(x, y)\n",
    "plt.show()"
   ]
  },
  {
   "cell_type": "markdown",
   "id": "d42a64b7",
   "metadata": {},
   "source": [
    "объект регрессии и проверим начальное значение ошибки:"
   ]
  },
  {
   "cell_type": "markdown",
   "id": "a81527dd",
   "metadata": {},
   "source": [
    "## Модель"
   ]
  },
  {
   "cell_type": "code",
   "execution_count": null,
   "id": "a50ca7f2",
   "metadata": {},
   "outputs": [],
   "source": [
    "class Model(object):\n",
    "    \"\"\"Модель парной линейной регрессии\"\"\"\n",
    "    def __init__(self, b0 = 0, b1 = 0):\n",
    "        self.b0 = b0\n",
    "        self.b1 = b1\n",
    "    def predict(self, X):\n",
    "        return self.b0 + self.b1 * X\n",
    "    def error(self, X, Y):\n",
    "        return sum(((self.predict(X) - Y)**2) / (2 * len(X)))\n",
    "    def fit(self, X, Y, alpha=0.001, accuracy=0.01, max_steps=5000):\n",
    "        steps, errors = [], []\n",
    "        step = 0        \n",
    "        for _ in range(max_steps):\n",
    "            dJ0 = sum(self.predict(X) - Y) /len(X)\n",
    "            dJ1 = sum((self.predict(X) - Y) * X) /len(X)\n",
    "            self.b0 -= alpha * dJ0\n",
    "            self.b1 -= alpha * dJ1    \n",
    "            new_err = hyp.error(X, Y)\n",
    "            step += 1            \n",
    "            steps.append(step)\n",
    "            errors.append(new_err)\n",
    "        return steps, errors"
   ]
  },
  {
   "cell_type": "code",
   "execution_count": null,
   "id": "4bcddb06",
   "metadata": {},
   "outputs": [],
   "source": [
    "hyp = Model(0, 0)\n",
    "steps, errors = hyp.fit(x, y, 0.001)\n",
    "J = hyp.error(x, y)\n",
    "print(\"error after gradient descent:\", J)\n",
    "\n",
    "X0 = np.linspace(-3, 2, 100)\n",
    "Y0 = hyp.predict(X0)\n",
    "plt.figure()\n",
    "plt.scatter(x, y)\n",
    "plt.plot(X0, Y0, 'r')\n",
    "plt.show()"
   ]
  },
  {
   "cell_type": "code",
   "execution_count": null,
   "id": "53a38a83",
   "metadata": {},
   "outputs": [],
   "source": [
    "plt.figure()\n",
    "plt.plot(steps, errors, 'g')\n",
    "plt.show()"
   ]
  },
  {
   "cell_type": "markdown",
   "id": "22099fcd",
   "metadata": {},
   "source": [
    "1. Проверьте работу модели с разными начальными значениями параметров. Убедитесь, что модель всегда сходится к оптимуму."
   ]
  },
  {
   "cell_type": "code",
   "execution_count": null,
   "id": "16e2268c",
   "metadata": {},
   "outputs": [],
   "source": [
    "initial_params = [\n",
    "    (7, -2),\n",
    "    (0, 0),   # b0 = 0, b1 = 0\n",
    "    (1, 1),   # b0 = 1, b1 = 1\n",
    "    (14, 10),  # b0 = -1, b1 = 2\n",
    "]\n",
    "\n",
    "# Проверка для каждой комбинации начальных значений\n",
    "for b0, b1 in initial_params:\n",
    "    hyp = Model(b0, b1)\n",
    "    steps, errors = hyp.fit(x, y, alpha=0.001)\n",
    "    J = hyp.error(x, y)\n",
    "    print(\"error after gradient descent:\", J)\n",
    "    # Построение графика\n",
    "    plt.figure()\n",
    "    plt.plot(steps, errors, 'g', label=f'b0 = {b0}, b1 = {b1}')\n",
    "    plt.xlabel('Шаги')\n",
    "    plt.ylabel('Ошибка')\n",
    "    plt.legend()\n",
    "    plt.show()\n",
    "\n"
   ]
  },
  {
   "cell_type": "markdown",
   "id": "ccb25ea8",
   "metadata": {},
   "source": [
    "2. Проверьте работу модели с другими значениями скорости обучения. Найдите значение, при котором градиентный спуск расходится. "
   ]
  },
  {
   "cell_type": "code",
   "execution_count": null,
   "id": "c00d0de4",
   "metadata": {},
   "outputs": [],
   "source": [
    "# Значения α для проверки\n",
    "alphas = [0.0001, 0.001, 0.01, 0.1, 0.5, 1.0]\n",
    "\n",
    "# Проверка для каждого α\n",
    "for alpha in alphas:\n",
    "    hyp = Model(0, 0)\n",
    "    steps, errors = hyp.fit(x, y, alpha=alpha)\n",
    "    \n",
    "    # Построение графика\n",
    "    plt.figure()\n",
    "    plt.plot(steps, errors, 'g', label=f'alpha = {alpha}')\n",
    "    plt.xlabel('Шаги')\n",
    "    plt.ylabel('Ошибка')\n",
    "    plt.legend()\n",
    "    plt.show()"
   ]
  },
  {
   "cell_type": "markdown",
   "id": "d9422f8c",
   "metadata": {},
   "source": [
    "Модель сходится для всех проверенных шагов alpha. Это подтверждает ее надежность"
   ]
  },
  {
   "cell_type": "markdown",
   "id": "fef4381f",
   "metadata": {},
   "source": [
    "3. Модифицируйте код модели таким образом, чтобы он корректно работал как с _Series_, так и с _DataFrame_. При этом, конечно, датафрейм не должен содержать \"лишних\" столбцов.\n",
    "4. Модифицируйте алгоритм градиентного спуска таким образом, чтобы он останавливаля, если ошибка перестает снижаться. Для этого сравнивайте, на сколько понизилась ошибка на каждом шаге и если это снижение меньше некоторой заранее заданной очень маленькой величины - выходите из цикла. Эту величину можно взять одну миллионную, например. \n",
    "5. Убедитесь, что алгоритм градиентного спуска завершается всегда - либо если ошибка перестает существенно меняться, либо при достижении максимального количества шагов.\n",
    "6. Реализуйте механизм адаптивной скорости обучения. Чтобы не задавать вручную параметр _alpha_ можно отслеживать, увеличивается ли ошибка после первого шага градиентного спуска. В начале задаем скорость обучения близкой к 1. Если ошибка после одного шага увеличивается - скорость обучения надо уменьшить (например, в 2 раза). Если не увеличивается - скорость обучения можно не трогать. Еще подумайте, как после уменьшения скорости перезапускать градиентный спуск заново.\n",
    "7. Добавьте к классу модели метод рисования графиков. Сделайте так, чтобы он был независим от масштаба переданных данных."
   ]
  },
  {
   "cell_type": "code",
   "execution_count": null,
   "id": "0c819262",
   "metadata": {},
   "outputs": [],
   "source": [
    "class Model(object):\n",
    "    def __init__(self, b0=0, b1=0):\n",
    "        self.b0 = b0\n",
    "        self.b1 = b1\n",
    "\n",
    "    def predict(self, X):\n",
    "        return self.b0 + self.b1 * X\n",
    "\n",
    "    def error(self, X, Y):\n",
    "        return sum(((self.predict(X) - Y) ** 2) / (2 * len(X)))\n",
    "\n",
    "    def fit(self, X, Y, alpha=0.001, accuracy=0.01, max_steps=5000, min_delta = 1e-6):\n",
    "        steps, errors = [], []\n",
    "        step = 0\n",
    "        prev_err = None\n",
    "        start_b0, start_b1 = self.b0, self.b1\n",
    "\n",
    "        while step < max_steps:\n",
    "            dJ0 = sum(self.predict(X) - Y) / len(X)\n",
    "            dJ1 = sum((self.predict(X) - Y) * X) / len(X)\n",
    "            self.b0 -= alpha * dJ0\n",
    "            self.b1 -= alpha * dJ1\n",
    "            new_err = self.error(X, Y)\n",
    "\n",
    "            # Проверяем, увеличилась ли ошибка\n",
    "            if prev_err is not None and new_err > prev_err:\n",
    "                # Если ошибка увеличилась, уменьшаем alpha и восстанавливаем параметры\n",
    "                alpha /= 2\n",
    "                self.b0, self.b1 = start_b0, start_b1\n",
    "                continue\n",
    "\n",
    "            if prev_err is not None and abs(prev_err-new_err) < min_delta:\n",
    "                print('ended by unsignificant error')\n",
    "                break\n",
    "            prev_err=new_err\n",
    "\n",
    "            step += 1\n",
    "            steps.append(step)\n",
    "            errors.append(new_err)\n",
    "        print('ended by finishing max_steps')\n",
    "        return steps, errors\n",
    "    \n",
    "    def plot(self, steps, errors):\n",
    "        plt.figure()\n",
    "        plt.plot(steps, errors)\n",
    "        plt.xlabel('Шаги')\n",
    "        plt.ylabel('Ошибка')\n",
    "        plt.legend()\n",
    "        plt.show()"
   ]
  },
  {
   "cell_type": "markdown",
   "id": "ce7437d9",
   "metadata": {},
   "source": [
    "Проверим работу построения графиков и механизма адаптивной скорости обучения на разных значениях скорости обучения"
   ]
  },
  {
   "cell_type": "code",
   "execution_count": null,
   "id": "bb0c39e8",
   "metadata": {},
   "outputs": [],
   "source": [
    "# Проверка для каждого α\n",
    "for alpha in alphas:\n",
    "    print(f'alpha = {alpha}')\n",
    "    hyp = Model(0, 0)\n",
    "    steps, errors = hyp.fit(x, y, alpha=alpha)\n",
    "    hyp.plot(steps, errors)"
   ]
  },
  {
   "cell_type": "markdown",
   "id": "83581ff7",
   "metadata": {},
   "source": []
  },
  {
   "cell_type": "code",
   "execution_count": null,
   "id": "d0edabb9",
   "metadata": {},
   "outputs": [],
   "source": [
    "# Проверка для каждой комбинации начальных значений\n",
    "for b0, b1 in initial_params:\n",
    "    print(f'b0 = {b0}, b1 = {b1} \\n')\n",
    "    hyp = Model(b0, b1)\n",
    "    steps, errors = hyp.fit(x, y, alpha=0.001)\n",
    "    hyp.plot(steps, errors)"
   ]
  }
 ],
 "metadata": {
  "kernelspec": {
   "display_name": "Python 3",
   "language": "python",
   "name": "python3"
  },
  "language_info": {
   "codemirror_mode": {
    "name": "ipython",
    "version": 3
   },
   "file_extension": ".py",
   "mimetype": "text/x-python",
   "name": "python",
   "nbconvert_exporter": "python",
   "pygments_lexer": "ipython3",
   "version": "3.13.2"
  }
 },
 "nbformat": 4,
 "nbformat_minor": 5
}
